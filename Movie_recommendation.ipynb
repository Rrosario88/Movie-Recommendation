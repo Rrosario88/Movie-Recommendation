{
 "cells": [
  {
   "cell_type": "code",
   "execution_count": 23,
   "id": "d75ed1bb",
   "metadata": {},
   "outputs": [],
   "source": [
    "import pandas as pd\n",
    "import numpy as np\n",
    "import pinecone\n",
    "\n",
    "# Initialize Pinecone\n",
    "pinecone.init(api_key=\"a23b0d2d-312f-40e8-9c10-5bf3b45833e0\", environment=\"gcp-starter\")\n",
    "\n",
    "# Create a Pinecone index\n",
    "pinecone.create_index(\"movies\", dimension=19)\n",
    "\n",
    "# Connect to the Pinecone index\n",
    "index = pinecone.Index(index_name=\"movies\")\n",
    "\n",
    "# Load data\n",
    "movies_df = pd.read_csv('movies.csv')\n",
    "genres_df = movies_df['genres'].str.get_dummies(sep='|')\n",
    "\n",
    "# Upsert data to Pinecone index with movie titles as metadata\n",
    "for idx, row in genres_df.iterrows():\n",
    "    vector = row.values.tolist()\n",
    "    movie_id = str(movies_df.loc[idx, 'movieId'])\n",
    "    movie_title = movies_df.loc[idx, 'title']\n",
    "    index.upsert([(movie_id, vector, {\"title\": movie_title})])\n"
   ]
  },
  {
   "cell_type": "code",
   "execution_count": 24,
   "id": "2a070177",
   "metadata": {},
   "outputs": [
    {
     "data": {
      "text/plain": [
       "['movies']"
      ]
     },
     "execution_count": 24,
     "metadata": {},
     "output_type": "execute_result"
    }
   ],
   "source": [
    "pinecone.list_indexes()"
   ]
  },
  {
   "cell_type": "code",
   "execution_count": 25,
   "id": "95a1819f",
   "metadata": {},
   "outputs": [
    {
     "data": {
      "text/plain": [
       "{'dimension': 19,\n",
       " 'index_fullness': 0.05401,\n",
       " 'namespaces': {'': {'vector_count': 5401}},\n",
       " 'total_vector_count': 5401}"
      ]
     },
     "execution_count": 25,
     "metadata": {},
     "output_type": "execute_result"
    }
   ],
   "source": [
    "index.describe_index_stats()"
   ]
  },
  {
   "cell_type": "code",
   "execution_count": 27,
   "id": "20aa6b26",
   "metadata": {},
   "outputs": [
    {
     "name": "stdout",
     "output_type": "stream",
     "text": [
      "{'matches': [{'id': '2784',\n",
      "              'metadata': {'title': 'Masque of the Red Death, The (1964)'},\n",
      "              'score': 1.0,\n",
      "              'values': []},\n",
      "             {'id': '3294',\n",
      "              'metadata': {'title': 'Eaten Alive (1977)'},\n",
      "              'score': 1.0,\n",
      "              'values': []},\n",
      "             {'id': '5649',\n",
      "              'metadata': {'title': 'Horror of Dracula (Dracula) (1958)'},\n",
      "              'score': 1.0,\n",
      "              'values': []},\n",
      "             {'id': '2782',\n",
      "              'metadata': {'title': 'Pit and the Pendulum (1961)'},\n",
      "              'score': 1.0,\n",
      "              'values': []},\n",
      "             {'id': '2754',\n",
      "              'metadata': {'title': 'Deadtime Stories (1987)'},\n",
      "              'score': 1.0,\n",
      "              'values': []},\n",
      "             {'id': '3280',\n",
      "              'metadata': {'title': 'Baby, The (1973)'},\n",
      "              'score': 1.0,\n",
      "              'values': []},\n",
      "             {'id': '841',\n",
      "              'metadata': {'title': 'Eyes Without a Face (Yeux sans visage, '\n",
      "                                    'Les) (1959)'},\n",
      "              'score': 1.0,\n",
      "              'values': []},\n",
      "             {'id': '5588',\n",
      "              'metadata': {'title': 'Hills Have Eyes, The (1977)'},\n",
      "              'score': 1.0,\n",
      "              'values': []},\n",
      "             {'id': '2787',\n",
      "              'metadata': {'title': \"Cat's Eye (1985)\"},\n",
      "              'score': 1.0,\n",
      "              'values': []},\n",
      "             {'id': '7650',\n",
      "              'metadata': {'title': 'Witchfinder General (Conquerer Worm, The) '\n",
      "                                    '(1968)'},\n",
      "              'score': 1.0,\n",
      "              'values': []},\n",
      "             {'id': '2652',\n",
      "              'metadata': {'title': 'Curse of Frankenstein, The (1957)'},\n",
      "              'score': 1.0,\n",
      "              'values': []},\n",
      "             {'id': '7564',\n",
      "              'metadata': {'title': 'Kwaidan (Kaidan) (1964)'},\n",
      "              'score': 1.0,\n",
      "              'values': []},\n",
      "             {'id': '2655',\n",
      "              'metadata': {'title': 'Howling II: Your Sister Is a Werewolf '\n",
      "                                    '(1985)'},\n",
      "              'score': 1.0,\n",
      "              'values': []},\n",
      "             {'id': '8906',\n",
      "              'metadata': {'title': 'Cannibal Holocaust (1980)'},\n",
      "              'score': 1.0,\n",
      "              'values': []},\n",
      "             {'id': '7202',\n",
      "              'metadata': {'title': 'Beyond Re-Animator (2003)'},\n",
      "              'score': 1.0,\n",
      "              'values': []},\n",
      "             {'id': '735',\n",
      "              'metadata': {'title': 'Cemetery Man (Dellamorte Dellamore) '\n",
      "                                    '(1994)'},\n",
      "              'score': 1.0,\n",
      "              'values': []},\n",
      "             {'id': '5663',\n",
      "              'metadata': {'title': 'Below (2002)'},\n",
      "              'score': 1.0,\n",
      "              'values': []},\n",
      "             {'id': '2789',\n",
      "              'metadata': {'title': 'Damien: Omen II (1978)'},\n",
      "              'score': 1.0,\n",
      "              'values': []},\n",
      "             {'id': '1969',\n",
      "              'metadata': {'title': \"Nightmare on Elm Street 2: Freddy's \"\n",
      "                                    'Revenge, A (1985)'},\n",
      "              'score': 1.0,\n",
      "              'values': []},\n",
      "             {'id': '3344',\n",
      "              'metadata': {'title': 'Blood Feast (1963)'},\n",
      "              'score': 1.0,\n",
      "              'values': []}],\n",
      " 'namespace': ''}\n"
     ]
    }
   ],
   "source": [
    "horror_vector = [1 if genre == 'Horror' else 0 for genre in genres_df.columns]\n",
    "query_response = index.query(vector=[horror_vector], top_k=20, include_metadata=True)\n",
    "print(query_response)\n",
    "\n",
    "\n"
   ]
  }
 ],
 "metadata": {
  "kernelspec": {
   "display_name": "Python 3",
   "language": "python",
   "name": "python3"
  },
  "language_info": {
   "codemirror_mode": {
    "name": "ipython",
    "version": 3
   },
   "file_extension": ".py",
   "mimetype": "text/x-python",
   "name": "python",
   "nbconvert_exporter": "python",
   "pygments_lexer": "ipython3",
   "version": "3.11.4"
  }
 },
 "nbformat": 4,
 "nbformat_minor": 5
}
